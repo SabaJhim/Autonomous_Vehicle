{
 "cells": [
  {
   "cell_type": "code",
   "execution_count": 163,
   "metadata": {},
   "outputs": [],
   "source": [
    "dataDir= \"D:/Autonomous Vehicle/Code1/location-2\""
   ]
  },
  {
   "cell_type": "code",
   "execution_count": null,
   "metadata": {},
   "outputs": [],
   "source": [
    "#exec(open('init_notebook.py').read())\n",
    "exec(open('D:/Autonomous Vehicle/Code2/behavior-hypotheses/src/notebooks/init_notebook.py').read())"
   ]
  },
  {
   "cell_type": "code",
   "execution_count": 165,
   "metadata": {},
   "outputs": [],
   "source": [
    "import pandas as pd\n",
    "import os\n",
    "import seaborn as sns\n",
    "import matplotlib.pyplot as plt\n",
    "import scipy.stats as stats\n",
    "import numpy as np\n",
    "from scipy.interpolate import interp1d\n",
    "\n",
    "from tabulate import tabulate\n",
    "from tti_dataset_tools.TrajectoryTransformer import TrajectoryTransformer\n",
    "from tti_dataset_tools.TrajectoryVisualizer import TrajectoryVisualizer\n",
    "from tti_dataset_tools.TrajectoryCleaner import TrajectoryCleaner\n",
    "from behavior_tools.TrajectoryADECalculator import TrajectoryADECalculator\n",
    "from behavior_tools.Sampler import Sampler\n",
    "from tti_dataset_tools.ColMapper import ColMapper\n",
    "\n",
    "from behavior_tools.AngularDisplacementCalculator import AngularDisplacementCalculator"
   ]
  },
  {
   "cell_type": "code",
   "execution_count": 166,
   "metadata": {},
   "outputs": [],
   "source": [
    "sceneId=210\n",
    "date=\"2023-05-04\"\n",
    "fps=10\n",
    "minYDisplacement=5\n",
    "maxXDisplacement=6\n",
    "pedDf=pd.read_csv(os.path.join(dataDir,f\"{date}-fps-{fps}-scene-{sceneId}-pedestrians.csv\"))\n",
    "otherDf=pd.read_csv(os.path.join(dataDir,f\"{date}-fps-{fps}-scene-{sceneId}-others.csv\"))\n",
    "tracksMeta=pd.read_csv(os.path.join(dataDir,f\"{date}-fps-{fps}-scene-{sceneId}-meta.csv\"))"
   ]
  },
  {
   "cell_type": "code",
   "execution_count": 167,
   "metadata": {},
   "outputs": [],
   "source": [
    "visualizer=TrajectoryVisualizer()\n",
    "adeCalculator=TrajectoryADECalculator()\n",
    "colMapper= ColMapper(idCol='uniqueTrackId',\n",
    "                     xCol='sceneX',\n",
    "                     yCol='sceneY',\n",
    "                     xVelCol='sceneXVelocity',\n",
    "                     yVelCol='sceneYVelocity',\n",
    "                     speedCol='speed',\n",
    "                     fps=fps\n",
    "                     )\n",
    "transformer=TrajectoryTransformer(colMapper)\n",
    "cleaner=TrajectoryCleaner(colMapper=colMapper,\n",
    "                          minSpeed=0.0,\n",
    "                          maxSpeed=3.5,\n",
    "                          minYDisplacement=minYDisplacement,\n",
    "                          maxXDisplacement=maxXDisplacement)\n",
    "transformer.deriveSpeed(pedDf)\n",
    "transformer.deriveDisplacements(pedDf)"
   ]
  },
  {
   "cell_type": "code",
   "execution_count": null,
   "metadata": {},
   "outputs": [],
   "source": [
    "cleanPedDf=cleaner.cleanByYDisplacement(pedDf)\n",
    "#visualizer.show(pedDf,idCol='uniqueTrackId',xCol='sceneX',yCol='sceneY')\n",
    "#visualizer.show(cleanPedDf,idCol='uniqueTrackId',xCol='sceneX',yCol='sceneY')\n",
    "#print(cleanPedDf)\n",
    "allPedIds=list(cleanPedDf[\"uniqueTrackId\"].unique())\n",
    "#print(allPedIds)->Gives the unique ids\n",
    "transformer.translateAllToLocalSource(cleanPedDf)# Creates two new columns localX,localY which gives the values of points with resopect to one single origin\n",
    "#print(cleanPedDf)\n",
    "#visualizer.show(cleanPedDf,idCol=\"uniqueTrackId\",xCol=\"localX\",yCol=\"localY\")\n",
    "\n",
    "southIds=[]\n",
    "for pedId in allPedIds:\n",
    "        trackDf=cleanPedDf[cleanPedDf['uniqueTrackId']==pedId]\n",
    "        trackMeta=tracksMeta[tracksMeta['uniqueTrackId']==pedId].iloc[0]\n",
    "        \n",
    "        if trackMeta['verticalDirection']==\"SOUTH\":\n",
    "                southIds.append(pedId)\n",
    "                X,Y=transformer.rotate180(trackDf,'localX','localY')\n",
    "                cleanPedDf.loc[cleanPedDf['uniqueTrackId']==pedId,'localX']=X\n",
    "                cleanPedDf.loc[cleanPedDf['uniqueTrackId']==pedId,'localY']=Y\n",
    "#visualizer.show(cleanPedDf,idCol='uniqueTrackId',xCol='localX',yCol='localY')\n",
    "print(allPedIds)"
   ]
  },
  {
   "cell_type": "code",
   "execution_count": 169,
   "metadata": {},
   "outputs": [],
   "source": [
    "## collect localXe and localYe\n",
    "trackIds = cleanPedDf[\"uniqueTrackId\"].unique()\n",
    "localXe=[]\n",
    "localYe=[]\n",
    "\n",
    "for trackId in trackIds:\n",
    "    trackDf = cleanPedDf[cleanPedDf[\"uniqueTrackId\"] == trackId]\n",
    "    \n",
    "    #collect and append the localX and localY values in a list\n",
    "    localXe.append(trackDf[\"localX\"].tolist())\n",
    "    localYe.append(trackDf[\"localY\"].tolist())\n"
   ]
  },
  {
   "cell_type": "code",
   "execution_count": 170,
   "metadata": {},
   "outputs": [],
   "source": [
    "def calculate_threshold(points) :\n",
    "        i=0\n",
    "        sum=0\n",
    "        size=len(points)\n",
    "        for i in range(size-1) :\n",
    "                sum=sum+abs(points[i][0]-points[i+1][0])\n",
    "        return abs(sum)/size"
   ]
  },
  {
   "cell_type": "code",
   "execution_count": 171,
   "metadata": {},
   "outputs": [],
   "source": [
    "def rdp(points, epsilon):\n",
    "    \"\"\"\n",
    "    Reduce the number of points in a curve using the Ramer-Douglas-Peucker algorithm.\n",
    "    Parameters:\n",
    "    - points: Nx2 array of x and y coordinates.\n",
    "    - epsilon: Tolerance parameter.\n",
    "    Returns:\n",
    "    - Reduced set of points.\n",
    "    \"\"\"\n",
    "    # Find the point with the maximum distance from the line between start and end\n",
    "    start, end = points[0], points[-1]\n",
    "    line_vec = end - start\n",
    "    line_vec_norm = line_vec / np.hypot(*line_vec)\n",
    "    distances = np.abs(np.cross(points - start, line_vec_norm))\n",
    "    \n",
    "    \n",
    "    max_distance = np.max(distances)\n",
    "    index = np.argmax(distances)\n",
    "    \n",
    "    \n",
    "    # If the max distance is greater than epsilon, recursively simplify\n",
    "    if max_distance > epsilon:\n",
    "        left = rdp(points[:index+1], epsilon)\n",
    "        right = rdp(points[index:], epsilon)\n",
    "        return np.vstack((left[:-1], right))\n",
    "    else:\n",
    "        return np.array([start, end])"
   ]
  },
  {
   "cell_type": "code",
   "execution_count": 172,
   "metadata": {},
   "outputs": [],
   "source": [
    "def rdp_limited(points, max_nodes, initial_epsilon, step):\n",
    "    epsilon = initial_epsilon\n",
    "    while True:\n",
    "        reduced_points = rdp(points, epsilon)\n",
    "        if len(reduced_points) <= max_nodes:\n",
    "            return reduced_points\n",
    "        else:\n",
    "            epsilon += step  # Simplify more by increasing epsilon\n",
    "        "
   ]
  },
  {
   "cell_type": "code",
   "execution_count": null,
   "metadata": {},
   "outputs": [],
   "source": [
    "\n",
    "## main algo\n",
    "\n",
    "for i in range(100,110):\n",
    "    dataX = (np.array(localXe[i]))\n",
    "    dataY = (np.array(localYe[i]))\n",
    "    points= np.column_stack((dataX, dataY))\n",
    "    max_nodes=8\n",
    "    epsilon = calculate_threshold(points)/5\n",
    "    step=epsilon/2\n",
    "    reduced_points = rdp_limited(points,max_nodes, epsilon,step)\n",
    "    x_nodes = reduced_points[:, 0]\n",
    "    y_nodes = reduced_points[:, 1]\n",
    "\n",
    "    plt.figure(figsize=(20,10))\n",
    "    plt.title(f\"Track {allPedIds[i]}\")\n",
    "    plt.plot(dataX, dataY, label='Original Data', color='blue')\n",
    "    plt.plot(x_nodes, y_nodes, label='Refined Linear Spline', color='orange')\n",
    "    plt.scatter(x_nodes, y_nodes, color='red', label='Spline Nodes')\n",
    "    plt.legend()\n",
    "\n",
    "plt.show()"
   ]
  },
  {
   "cell_type": "code",
   "execution_count": null,
   "metadata": {},
   "outputs": [],
   "source": []
  }
 ],
 "metadata": {
  "kernelspec": {
   "display_name": "TTI",
   "language": "python",
   "name": "python3"
  },
  "language_info": {
   "codemirror_mode": {
    "name": "ipython",
    "version": 3
   },
   "file_extension": ".py",
   "mimetype": "text/x-python",
   "name": "python",
   "nbconvert_exporter": "python",
   "pygments_lexer": "ipython3",
   "version": "3.8.15"
  }
 },
 "nbformat": 4,
 "nbformat_minor": 2
}
